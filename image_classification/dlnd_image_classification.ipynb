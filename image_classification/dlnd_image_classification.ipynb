{
 "cells": [
  {
   "cell_type": "markdown",
   "metadata": {
    "collapsed": true
   },
   "source": [
    "# Image Classification\n",
    "In this project, you'll classify images from the [CIFAR-10 dataset](https://www.cs.toronto.edu/~kriz/cifar.html).  The dataset consists of airplanes, dogs, cats, and other objects. You'll preprocess the images, then train a convolutional neural network on all the samples. The images need to be normalized and the labels need to be one-hot encoded.  You'll get to apply what you learned and build a convolutional, max pooling, dropout, and fully connected layers.  At the end, you'll get to see your neural network's predictions on the sample images.\n",
    "## Get the Data\n",
    "Run the following cell to download the [CIFAR-10 dataset for python](https://www.cs.toronto.edu/~kriz/cifar-10-python.tar.gz)."
   ]
  },
  {
   "cell_type": "code",
   "execution_count": 35,
   "metadata": {
    "collapsed": false
   },
   "outputs": [
    {
     "name": "stdout",
     "output_type": "stream",
     "text": [
      "All files found!\n"
     ]
    }
   ],
   "source": [
    "\"\"\"\n",
    "DON'T MODIFY ANYTHING IN THIS CELL THAT IS BELOW THIS LINE\n",
    "\"\"\"\n",
    "from urllib.request import urlretrieve\n",
    "from os.path import isfile, isdir\n",
    "from tqdm import tqdm\n",
    "import problem_unittests as tests\n",
    "import tarfile\n",
    "\n",
    "cifar10_dataset_folder_path = 'cifar-10-batches-py'\n",
    "\n",
    "class DLProgress(tqdm):\n",
    "    last_block = 0\n",
    "\n",
    "    def hook(self, block_num=1, block_size=1, total_size=None):\n",
    "        self.total = total_size\n",
    "        self.update((block_num - self.last_block) * block_size)\n",
    "        self.last_block = block_num\n",
    "\n",
    "if not isfile('cifar-10-python.tar.gz'):\n",
    "    with DLProgress(unit='B', unit_scale=True, miniters=1, desc='CIFAR-10 Dataset') as pbar:\n",
    "        urlretrieve(\n",
    "            'https://www.cs.toronto.edu/~kriz/cifar-10-python.tar.gz',\n",
    "            'cifar-10-python.tar.gz',\n",
    "            pbar.hook)\n",
    "\n",
    "if not isdir(cifar10_dataset_folder_path):\n",
    "    with tarfile.open('cifar-10-python.tar.gz') as tar:\n",
    "        tar.extractall()\n",
    "        tar.close()\n",
    "\n",
    "\n",
    "tests.test_folder_path(cifar10_dataset_folder_path)"
   ]
  },
  {
   "cell_type": "markdown",
   "metadata": {},
   "source": [
    "## Explore the Data\n",
    "The dataset is broken into batches to prevent your machine from running out of memory.  The CIFAR-10 dataset consists of 5 batches, named `data_batch_1`, `data_batch_2`, etc.. Each batch contains the labels and images that are one of the following:\n",
    "* airplane\n",
    "* automobile\n",
    "* bird\n",
    "* cat\n",
    "* deer\n",
    "* dog\n",
    "* frog\n",
    "* horse\n",
    "* ship\n",
    "* truck\n",
    "\n",
    "Understanding a dataset is part of making predictions on the data.  Play around with the code cell below by changing the `batch_id` and `sample_id`. The `batch_id` is the id for a batch (1-5). The `sample_id` is the id for a image and label pair in the batch.\n",
    "\n",
    "Ask yourself \"What are all possible labels?\", \"What is the range of values for the image data?\", \"Are the labels in order or random?\".  Answers to questions like these will help you preprocess the data and end up with better predictions."
   ]
  },
  {
   "cell_type": "code",
   "execution_count": 36,
   "metadata": {
    "collapsed": false
   },
   "outputs": [
    {
     "name": "stdout",
     "output_type": "stream",
     "text": [
      "\n",
      "Stats of batch 5:\n",
      "Samples: 10000\n",
      "Label Counts: {0: 1014, 1: 1014, 2: 952, 3: 1016, 4: 997, 5: 1025, 6: 980, 7: 977, 8: 1003, 9: 1022}\n",
      "First 20 Labels: [1, 8, 5, 1, 5, 7, 4, 3, 8, 2, 7, 2, 0, 1, 5, 9, 6, 2, 0, 8]\n",
      "\n",
      "Example of Image 10:\n",
      "Image - Min Value: 16 Max Value: 227\n",
      "Image - Shape: (32, 32, 3)\n",
      "Label - Label Id: 7 Name: horse\n"
     ]
    },
    {
     "data": {
      "image/png": "[encoded data removed]",
      "text/plain": [
       "<matplotlib.figure.Figure at 0x114719828>"
      ]
     },
     "metadata": {
      "image/png": {
       "height": 250,
       "width": 253
      }
     },
     "output_type": "display_data"
    }
   ],
   "source": [
    "%matplotlib inline\n",
    "%config InlineBackend.figure_format = 'retina'\n",
    "\n",
    "import helper\n",
    "import numpy as np\n",
    "\n",
    "# Explore the dataset\n",
    "batch_id = 5\n",
    "sample_id = 10\n",
    "helper.display_stats(cifar10_dataset_folder_path, batch_id, sample_id)"
   ]
  },
  {
   "cell_type": "markdown",
   "metadata": {},
   "source": [
    "## Implement Preprocess Functions\n",
    "### Normalize\n",
    "In the cell below, implement the `normalize` function to take in image data, `x`, and return it as a normalized Numpy array. The values should be in the range of 0 to 1, inclusive.  The return object should be the same shape as `x`."
   ]
  },
  {
   "cell_type": "code",
   "execution_count": 37,
   "metadata": {
    "collapsed": false
   },
   "outputs": [
    {
     "name": "stdout",
     "output_type": "stream",
     "text": [
      "Tests Passed\n"
     ]
    }
   ],
   "source": [
    "\n",
    "def normalize(x):\n",
    "    \"\"\"\n",
    "    Normalize a list of sample image data in the range of 0 to 1\n",
    "    : x: List of image data.  The image shape is (32, 32, 3)\n",
    "    : return: Numpy array of normalize data\n",
    "    \"\"\"\n",
    "    # TODO: Implement Function\n",
    "    #from sklearn import preprocessing\n",
    "    return (x-x.min())/x.max()\n",
    "\n",
    "\n",
    "\"\"\"\n",
    "DON'T MODIFY ANYTHING IN THIS CELL THAT IS BELOW THIS LINE\n",
    "\"\"\"\n",
    "tests.test_normalize(normalize)"
   ]
  },
  {
   "cell_type": "markdown",
   "metadata": {},
   "source": [
    "### One-hot encode\n",
    "Just like the previous code cell, you'll be implementing a function for preprocessing.  This time, you'll implement the `one_hot_encode` function. The input, `x`, are a list of labels.  Implement the function to return the list of labels as One-Hot encoded Numpy array.  The possible values for labels are 0 to 9. The one-hot encoding function should return the same encoding for each value between each call to `one_hot_encode`.  Make sure to save the map of encodings outside the function.\n",
    "\n",
    "Hint: Don't reinvent the wheel."
   ]
  },
  {
   "cell_type": "code",
   "execution_count": 38,
   "metadata": {
    "collapsed": false
   },
   "outputs": [
    {
     "name": "stdout",
     "output_type": "stream",
     "text": [
      "Tests Passed\n"
     ]
    }
   ],
   "source": [
    "def one_hot_encode(x):\n",
    "    \"\"\"\n",
    "    One hot encode a list of sample labels. Return a one-hot encoded vector for each label.\n",
    "    : x: List of sample Labels\n",
    "    : return: Numpy array of one-hot encoded labels\n",
    "    \"\"\"\n",
    "    Y = np.zeros(shape=(len(x), 10),dtype=np.float32)\n",
    "    #print new_Y.shape\n",
    "    for i in range(len(x)):\n",
    "        Y[i][int(x[i])] = 1\n",
    "    # TODO: Implement Function\n",
    "    return Y\n",
    "\n",
    "\n",
    "\"\"\"\n",
    "DON'T MODIFY ANYTHING IN THIS CELL THAT IS BELOW THIS LINE\n",
    "\"\"\"\n",
    "tests.test_one_hot_encode(one_hot_encode)"
   ]
  },
  {
   "cell_type": "markdown",
   "metadata": {},
   "source": [
    "### Randomize Data\n",
    "As you saw from exploring the data above, the order of the samples are randomized.  It doesn't hurt to randomize it again, but you don't need to for this dataset."
   ]
  },
  {
   "cell_type": "markdown",
   "metadata": {},
   "source": [
    "## Preprocess all the data and save it\n",
    "Running the code cell below will preprocess all the CIFAR-10 data and save it to file. The code below also uses 10% of the training data for validation."
   ]
  },
  {
   "cell_type": "code",
   "execution_count": 39,
   "metadata": {
    "collapsed": false
   },
   "outputs": [],
   "source": [
    "\"\"\"\n",
    "DON'T MODIFY ANYTHING IN THIS CELL\n",
    "\"\"\"\n",
    "# Preprocess Training, Validation, and Testing Data\n",
    "helper.preprocess_and_save_data(cifar10_dataset_folder_path, normalize, one_hot_encode)"
   ]
  },
  {
   "cell_type": "markdown",
   "metadata": {},
   "source": [
    "# Check Point\n",
    "This is your first checkpoint.  If you ever decide to come back to this notebook or have to restart the notebook, you can start from here.  The preprocessed data has been saved to disk."
   ]
  },
  {
   "cell_type": "code",
   "execution_count": 51,
   "metadata": {
    "collapsed": true
   },
   "outputs": [],
   "source": [
    "\"\"\"\n",
    "DON'T MODIFY ANYTHING IN THIS CELL\n",
    "\"\"\"\n",
    "import pickle\n",
    "import problem_unittests as tests\n",
    "import helper\n",
    "\n",
    "# Load the Preprocessed Validation data\n",
    "valid_features, valid_labels = pickle.load(open('preprocess_validation.p', mode='rb'))"
   ]
  },
  {
   "cell_type": "markdown",
   "metadata": {},
   "source": [
    "## Build the network\n",
    "For the neural network, you'll build each layer into a function.  Most of the code you've seen has been outside of functions. To test your code more thoroughly, we require that you put each layer in a function.  This allows us to give you better feedback and test for simple mistakes using our unittests before you submit your project.\n",
    "\n",
    "If you're finding it hard to dedicate enough time for this course a week, we've provided a small shortcut to this part of the project. In the next couple of problems, you'll have the option to use [TensorFlow Layers](https://www.tensorflow.org/api_docs/python/tf/layers) or [TensorFlow Layers (contrib)](https://www.tensorflow.org/api_guides/python/contrib.layers) to build each layer, except \"Convolutional & Max Pooling\" layer.  TF Layers is similar to Keras's and TFLearn's abstraction to layers, so it's easy to pickup.\n",
    "\n",
    "If you would like to get the most of this course, try to solve all the problems without TF Layers.  Let's begin!\n",
    "### Input\n",
    "The neural network needs to read the image data, one-hot encoded labels, and dropout keep probability. Implement the following functions\n",
    "* Implement `neural_net_image_input`\n",
    " * Return a [TF Placeholder](https://www.tensorflow.org/api_docs/python/tf/placeholder)\n",
    " * Set the shape using `image_shape` with batch size set to `None`.\n",
    " * Name the TensorFlow placeholder \"x\" using the TensorFlow `name` parameter in the [TF Placeholder](https://www.tensorflow.org/api_docs/python/tf/placeholder).\n",
    "* Implement `neural_net_label_input`\n",
    " * Return a [TF Placeholder](https://www.tensorflow.org/api_docs/python/tf/placeholder)\n",
    " * Set the shape using `n_classes` with batch size set to `None`.\n",
    " * Name the TensorFlow placeholder \"y\" using the TensorFlow `name` parameter in the [TF Placeholder](https://www.tensorflow.org/api_docs/python/tf/placeholder).\n",
    "* Implement `neural_net_keep_prob_input`\n",
    " * Return a [TF Placeholder](https://www.tensorflow.org/api_docs/python/tf/placeholder) for dropout keep probability.\n",
    " * Name the TensorFlow placeholder \"keep_prob\" using the TensorFlow `name` parameter in the [TF Placeholder](https://www.tensorflow.org/api_docs/python/tf/placeholder).\n",
    "\n",
    "These names will be used at the end of the project to load your saved model.\n",
    "\n",
    "Note: `None` for shapes in TensorFlow allow for a dynamic size."
   ]
  },
  {
   "cell_type": "code",
   "execution_count": 52,
   "metadata": {
    "collapsed": false
   },
   "outputs": [
    {
     "name": "stdout",
     "output_type": "stream",
     "text": [
      "Image Input Tests Passed.\n",
      "Label Input Tests Passed.\n",
      "Keep Prob Tests Passed.\n"
     ]
    }
   ],
   "source": [
    "import tensorflow as tf\n",
    "\n",
    "def neural_net_image_input(image_shape):\n",
    "    \"\"\"\n",
    "    Return a Tensor for a bach of image input\n",
    "    : image_shape: Shape of the images\n",
    "    : return: Tensor for image input.\n",
    "    \"\"\"\n",
    "    # TODO: Implement Function\n",
    "    \n",
    "    x= tf.placeholder(tf.float32, shape=[None, image_shape[0], image_shape[1], image_shape[2]],name='x')\n",
    "    return x\n",
    "\n",
    "\n",
    "def neural_net_label_input(n_classes):\n",
    "    \"\"\"\n",
    "    Return a Tensor for a batch of label input\n",
    "    : n_classes: Number of classes\n",
    "    : return: Tensor for label input.\n",
    "    \"\"\"\n",
    "    # TODO: Implement Function\n",
    "    y = tf.placeholder(tf.float32, shape=[None, n_classes], name='y')\n",
    "    return y\n",
    "\n",
    "\n",
    "def neural_net_keep_prob_input():\n",
    "    \"\"\"\n",
    "    Return a Tensor for keep probability\n",
    "    : return: Tensor for keep probability.\n",
    "    \"\"\"\n",
    "    # TODO: Implement Function\n",
    "    keep_prob = tf.placeholder(tf.float32, name='keep_prob')\n",
    "    return keep_prob\n",
    "\n",
    "\n",
    "\"\"\"\n",
    "DON'T MODIFY ANYTHING IN THIS CELL THAT IS BELOW THIS LINE\n",
    "\"\"\"\n",
    "tf.reset_default_graph()\n",
    "tests.test_nn_image_inputs(neural_net_image_input)\n",
    "tests.test_nn_label_inputs(neural_net_label_input)\n",
    "tests.test_nn_keep_prob_inputs(neural_net_keep_prob_input)"
   ]
  },
  {
   "cell_type": "markdown",
   "metadata": {},
   "source": [
    "### Convolution and Max Pooling Layer\n",
    "Convolution layers have a lot of success with images. For this code cell, you should implement the function `conv2d_maxpool` to apply convolution then max pooling:\n",
    "* Create the weight and bias using `conv_ksize`, `conv_num_outputs` and the shape of `x_tensor`.\n",
    "* Apply a convolution to `x_tensor` using weight and `conv_strides`.\n",
    " * We recommend you use same padding, but you're welcome to use any padding.\n",
    "* Add bias\n",
    "* Add a nonlinear activation to the convolution.\n",
    "* Apply Max Pooling using `pool_ksize` and `pool_strides`.\n",
    " * We recommend you use same padding, but you're welcome to use any padding.\n",
    "\n",
    "Note: You **can't** use [TensorFlow Layers](https://www.tensorflow.org/api_docs/python/tf/layers) or [TensorFlow Layers (contrib)](https://www.tensorflow.org/api_guides/python/contrib.layers) for this layer.  You're free to use any TensorFlow package for all the other layers."
   ]
  },
  {
   "cell_type": "code",
   "execution_count": 53,
   "metadata": {
    "collapsed": false
   },
   "outputs": [
    {
     "name": "stdout",
     "output_type": "stream",
     "text": [
      "Tests Passed\n"
     ]
    }
   ],
   "source": [
    "def conv2d_maxpool(x_tensor, conv_num_outputs, conv_ksize, conv_strides, pool_ksize, pool_strides):\n",
    "    \"\"\"\n",
    "    Apply convolution then max pooling to x_tensor\n",
    "    :param x_tensor: TensorFlow Tensor\n",
    "    :param conv_num_outputs: Number of outputs for the convolutional layer\n",
    "    :param conv_strides: Stride 2-D Tuple for convolution\n",
    "    :param pool_ksize: kernal size 2-D Tuple for pool\n",
    "    :param pool_strides: Stride 2-D Tuple for pool\n",
    "    : return: A tensor that represents convolution and max pooling of x_tensor\n",
    "    \"\"\"\n",
    "    # TODO: Implement Function\n",
    "    tensor_Shape = x_tensor.get_shape()\n",
    "    W_conv1 = tf.Variable(tf.random_normal([int(conv_ksize[0]), int(conv_ksize[1]), int(tensor_Shape[3]), int(conv_num_outputs)], stddev=0.1))\n",
    "    b_conv1 = tf.zeros(int(conv_num_outputs))\n",
    "    \n",
    "    conv2d = tf.nn.conv2d(x_tensor, W_conv1, strides=[1,conv_strides[0],conv_strides[1],1], padding='SAME') + b_conv1\n",
    "    conv2d = tf.nn.relu(conv2d)\n",
    "    maxpool = tf.nn.max_pool(conv2d, ksize=[1,pool_ksize[0],pool_ksize[1],1], strides=[1,pool_strides[0],pool_strides[1],1], padding='SAME')\n",
    "    return maxpool \n",
    "\n",
    "\n",
    "\"\"\"\n",
    "DON'T MODIFY ANYTHING IN THIS CELL THAT IS BELOW THIS LINE\n",
    "\"\"\"\n",
    "tests.test_con_pool(conv2d_maxpool)"
   ]
  },
  {
   "cell_type": "markdown",
   "metadata": {},
   "source": [
    "### Flatten Layer\n",
    "Implement the `flatten` function to change the dimension of `x_tensor` from a 4-D tensor to a 2-D tensor.  The output should be the shape (*Batch Size*, *Flattened Image Size*). You can use [TensorFlow Layers](https://www.tensorflow.org/api_docs/python/tf/layers) or [TensorFlow Layers (contrib)](https://www.tensorflow.org/api_guides/python/contrib.layers) for this layer."
   ]
  },
  {
   "cell_type": "code",
   "execution_count": 54,
   "metadata": {
    "collapsed": false
   },
   "outputs": [
    {
     "name": "stdout",
     "output_type": "stream",
     "text": [
      "Tests Passed\n"
     ]
    }
   ],
   "source": [
    "def flatten(x_tensor):\n",
    "    \"\"\"\n",
    "    Flatten x_tensor to (Batch Size, Flattened Image Size)\n",
    "    : x_tensor: A tensor of size (Batch Size, ...), where ... are the image dimensions.\n",
    "    : return: A tensor of size (Batch Size, Flattened Image Size).\n",
    "    \"\"\"\n",
    "    # TODO: Implement Function\n",
    "    shape = x_tensor.get_shape().as_list()\n",
    "    dim = np.prod(shape[1:])\n",
    "    x2 = tf.reshape(x_tensor, [-1, dim])\n",
    "    return x2\n",
    "\n",
    "\n",
    "\"\"\"\n",
    "DON'T MODIFY ANYTHING IN THIS CELL THAT IS BELOW THIS LINE\n",
    "\"\"\"\n",
    "tests.test_flatten(flatten)"
   ]
  },
  {
   "cell_type": "markdown",
   "metadata": {},
   "source": [
    "### Fully-Connected Layer\n",
    "Implement the `fully_conn` function to apply a fully connected layer to `x_tensor` with the shape (*Batch Size*, *num_outputs*). You can use [TensorFlow Layers](https://www.tensorflow.org/api_docs/python/tf/layers) or [TensorFlow Layers (contrib)](https://www.tensorflow.org/api_guides/python/contrib.layers) for this layer."
   ]
  },
  {
   "cell_type": "code",
   "execution_count": 55,
   "metadata": {
    "collapsed": false
   },
   "outputs": [
    {
     "name": "stdout",
     "output_type": "stream",
     "text": [
      "Tests Passed\n"
     ]
    }
   ],
   "source": [
    "def fully_conn(x_tensor, num_outputs):\n",
    "    \"\"\"\n",
    "    Apply a fully connected layer to x_tensor using weight and bias\n",
    "    : x_tensor: A 2-D tensor where the first dimension is batch size.\n",
    "    : num_outputs: The number of output that the new tensor should be.\n",
    "    : return: A 2-D tensor where the second dimension is num_outputs.\n",
    "    \"\"\"\n",
    "    shape = x_tensor.get_shape().as_list()\n",
    "    W_fc1=tf.Variable(tf.random_normal([shape[1], num_outputs], stddev=0.1))\n",
    "    b_fc1=tf.zeros(num_outputs)\n",
    "    fc = tf.nn.relu(tf.matmul(x_tensor, W_fc1) + b_fc1)\n",
    "    return fc\n",
    "\n",
    "\n",
    "\"\"\"\n",
    "DON'T MODIFY ANYTHING IN THIS CELL THAT IS BELOW THIS LINE\n",
    "\"\"\"\n",
    "tests.test_fully_conn(fully_conn)"
   ]
  },
  {
   "cell_type": "markdown",
   "metadata": {},
   "source": [
    "### Output Layer\n",
    "Implement the `output` function to apply a fully connected layer to `x_tensor` with the shape (*Batch Size*, *num_outputs*). You can use [TensorFlow Layers](https://www.tensorflow.org/api_docs/python/tf/layers) or [TensorFlow Layers (contrib)](https://www.tensorflow.org/api_guides/python/contrib.layers) for this layer.\n",
    "\n",
    "Note: Activation, softmax, or cross entropy shouldn't be applied to this."
   ]
  },
  {
   "cell_type": "code",
   "execution_count": 56,
   "metadata": {
    "collapsed": false
   },
   "outputs": [
    {
     "name": "stdout",
     "output_type": "stream",
     "text": [
      "Tests Passed\n"
     ]
    }
   ],
   "source": [
    "def output(x_tensor, num_outputs):\n",
    "    \"\"\"\n",
    "    Apply a output layer to x_tensor using weight and bias\n",
    "    : x_tensor: A 2-D tensor where the first dimension is batch size.\n",
    "    : num_outputs: The number of output that the new tensor should be.\n",
    "    : return: A 2-D tensor where the second dimension is num_outputs.\n",
    "    \"\"\"\n",
    "    # TODO: Implement Function\n",
    "    shape = x_tensor.get_shape().as_list()\n",
    "    W_output=tf.Variable(tf.random_normal([shape[1], num_outputs]))\n",
    "    b_output=tf.zeros(num_outputs)\n",
    "    output = tf.matmul(x_tensor, W_output) + b_output\n",
    "    return output\n",
    "\n",
    "\n",
    "\"\"\"\n",
    "DON'T MODIFY ANYTHING IN THIS CELL THAT IS BELOW THIS LINE\n",
    "\"\"\"\n",
    "tests.test_output(output)"
   ]
  },
  {
   "cell_type": "markdown",
   "metadata": {},
   "source": [
    "### Create Convolutional Model\n",
    "Implement the function `conv_net` to create a convolutional neural network model. The function takes in a batch of images, `x`, and outputs logits.  Use the layers you created above to create this model:\n",
    "\n",
    "* Apply 1, 2, or 3 Convolution and Max Pool layers\n",
    "* Apply a Flatten Layer\n",
    "* Apply 1, 2, or 3 Fully Connected Layers\n",
    "* Apply an Output Layer\n",
    "* Return the output\n",
    "* Apply [TensorFlow's Dropout](https://www.tensorflow.org/api_docs/python/tf/nn/dropout) to one or more layers in the model using `keep_prob`. "
   ]
  },
  {
   "cell_type": "code",
   "execution_count": 57,
   "metadata": {
    "collapsed": false
   },
   "outputs": [
    {
     "name": "stdout",
     "output_type": "stream",
     "text": [
      "Neural Network Built!\n"
     ]
    }
   ],
   "source": [
    "def conv_net(x, keep_prob):\n",
    "    \"\"\"\n",
    "    Create a convolutional neural network model\n",
    "    : x: Placeholder tensor that holds image data.\n",
    "    : keep_prob: Placeholder tensor that hold dropout keep probability.\n",
    "    : return: Tensor that represents logits\n",
    "    \"\"\"\n",
    "    # TODO: Apply 1, 2, or 3 Convolution and Max Pool layers\n",
    "    #    Play around with different number of outputs, kernel size and stride\n",
    "    # Function Definition from Above:\n",
    "    #    conv2d_maxpool(x_tensor, conv_num_outputs, conv_ksize, conv_strides, pool_ksize, pool_strides)\n",
    "    conv1 = conv2d_maxpool(x, 16, [3,3], [1,1], [2,2], [2,2])   \n",
    "    \n",
    "    drop_data = tf.nn.dropout(conv1, keep_prob)\n",
    "    \n",
    "    conv2 = conv2d_maxpool(drop_data, 32, [3,3], [2,2], [2,2], [2,2]) \n",
    "\n",
    "    # TODO: Apply a Flatten Layer\n",
    "    # Function Definition from Above:\n",
    "    #   flatten(x_tensor)\n",
    "    flatten_data = flatten(conv2)\n",
    "\n",
    "    # TODO: Apply 1, 2, or 3 Fully Connected Layers\n",
    "    #    Play around with different number of outputs\n",
    "    # Function Definition from Above:\n",
    "    #   fully_conn(x_tensor, num_outputs)\n",
    "    \n",
    "    \n",
    "    fc1 = fully_conn(flatten_data, 1024)\n",
    "\n",
    "    # TODO: Apply an Output Layer\n",
    "    #    Set this to the number of classes\n",
    "    # Function Definition from Above:\n",
    "    #   output(x_tensor, num_outputs)\n",
    "    out = output(fc1, 10)\n",
    "    \n",
    "    # TODO: return output\n",
    "    return out\n",
    "\n",
    "\n",
    "\"\"\"\n",
    "DON'T MODIFY ANYTHING IN THIS CELL THAT IS BELOW THIS LINE\n",
    "\"\"\"\n",
    "\n",
    "##############################\n",
    "## Build the Neural Network ##\n",
    "##############################\n",
    "\n",
    "# Remove previous weights, bias, inputs, etc..\n",
    "tf.reset_default_graph()\n",
    "\n",
    "# Inputs\n",
    "x = neural_net_image_input((32, 32, 3))\n",
    "y = neural_net_label_input(10)\n",
    "keep_prob = neural_net_keep_prob_input()\n",
    "\n",
    "# Model\n",
    "logits = conv_net(x, keep_prob)\n",
    "\n",
    "# Name logits Tensor, so that is can be loaded from disk after training\n",
    "logits = tf.identity(logits, name='logits')\n",
    "\n",
    "# Loss and Optimizer\n",
    "cost = tf.reduce_mean(tf.nn.softmax_cross_entropy_with_logits(logits=logits, labels=y))\n",
    "optimizer = tf.train.AdamOptimizer().minimize(cost)\n",
    "\n",
    "# Accuracy\n",
    "correct_pred = tf.equal(tf.argmax(logits, 1), tf.argmax(y, 1))\n",
    "accuracy = tf.reduce_mean(tf.cast(correct_pred, tf.float32), name='accuracy')\n",
    "\n",
    "tests.test_conv_net(conv_net)"
   ]
  },
  {
   "cell_type": "markdown",
   "metadata": {},
   "source": [
    "## Train the Neural Network\n",
    "### Single Optimization\n",
    "Implement the function `train_neural_network` to do a single optimization.  The optimization should use `optimizer` to optimize in `session` with a `feed_dict` of the following:\n",
    "* `x` for image input\n",
    "* `y` for labels\n",
    "* `keep_prob` for keep probability for dropout\n",
    "\n",
    "This function will be called for each batch, so `tf.global_variables_initializer()` has already been called.\n",
    "\n",
    "Note: Nothing needs to be returned. This function is only optimizing the neural network."
   ]
  },
  {
   "cell_type": "code",
   "execution_count": 58,
   "metadata": {
    "collapsed": false
   },
   "outputs": [
    {
     "name": "stdout",
     "output_type": "stream",
     "text": [
      "Tests Passed\n"
     ]
    }
   ],
   "source": [
    "def train_neural_network(session, optimizer, keep_probability, feature_batch, label_batch):\n",
    "    \"\"\"\n",
    "    Optimize the session on a batch of images and labels\n",
    "    : session: Current TensorFlow session\n",
    "    : optimizer: TensorFlow optimizer function\n",
    "    : keep_probability: keep probability\n",
    "    : feature_batch: Batch of Numpy image data\n",
    "    : label_batch: Batch of Numpy label data\n",
    "    \"\"\"\n",
    "    # TODO: Implement Function\n",
    "    session.run([optimizer], feed_dict={x: feature_batch, y:label_batch, keep_prob: keep_probability})\n",
    "    #pass\n",
    "\n",
    "\n",
    "\"\"\"\n",
    "DON'T MODIFY ANYTHING IN THIS CELL THAT IS BELOW THIS LINE\n",
    "\"\"\"\n",
    "tests.test_train_nn(train_neural_network)"
   ]
  },
  {
   "cell_type": "markdown",
   "metadata": {},
   "source": [
    "### Show Stats\n",
    "Implement the function `print_stats` to print loss and validation accuracy.  Use the global variables `valid_features` and `valid_labels` to calculate validation accuracy.  Use a keep probability of `1.0` to calculate the loss and validation accuracy."
   ]
  },
  {
   "cell_type": "code",
   "execution_count": 80,
   "metadata": {
    "collapsed": false
   },
   "outputs": [],
   "source": [
    "def print_stats(session, feature_batch, label_batch, cost, accuracy):\n",
    "    \"\"\"\n",
    "    Print information about loss and validation accuracy\n",
    "    : session: Current TensorFlow session\n",
    "    : feature_batch: Batch of Numpy image data\n",
    "    : label_batch: Batch of Numpy label data\n",
    "    : cost: TensorFlow cost function\n",
    "    : accuracy: TensorFlow accuracy function\n",
    "    \"\"\"\n",
    "    # TODO: Implement Function\n",
    "    #print(\"accuracy\", accuracy)\n",
    "    global valid_features\n",
    "    global valid_labels\n",
    "    loss = sess.run(cost, feed_dict={x: feature_batch, y:label_batch, keep_prob:1})\n",
    "    valid_acc = accuracy.eval(feed_dict={x:valid_features, y:valid_labels, keep_prob:1})\n",
    "    Train_acc = accuracy.eval(feed_dict={x:feature_batch, y:label_batch, keep_prob:1})\n",
    "                                         \n",
    "    print('Loss at {}'.format(loss), 'Validation Accuracy at {}'.format(valid_acc), 'Training Acc at {}'.format(Train_acc))\n",
    "    \n",
    "    #print(\"cost\", cost)\n",
    "    pass"
   ]
  },
  {
   "cell_type": "markdown",
   "metadata": {},
   "source": [
    "### Hyperparameters\n",
    "Tune the following parameters:\n",
    "* Set `epochs` to the number of iterations until the network stops learning or start overfitting\n",
    "* Set `batch_size` to the highest number that your machine has memory for.  Most people set them to common sizes of memory:\n",
    " * 64\n",
    " * 128\n",
    " * 256\n",
    " * ...\n",
    "* Set `keep_probability` to the probability of keeping a node using dropout"
   ]
  },
  {
   "cell_type": "code",
   "execution_count": 81,
   "metadata": {
    "collapsed": true
   },
   "outputs": [],
   "source": [
    "# TODO: Tune Parameters\n",
    "epochs = 20\n",
    "batch_size = 64\n",
    "keep_probability = 0.5"
   ]
  },
  {
   "cell_type": "markdown",
   "metadata": {},
   "source": [
    "### Train on a Single CIFAR-10 Batch\n",
    "Instead of training the neural network on all the CIFAR-10 batches of data, let's use a single batch. This should save time while you iterate on the model to get a better accuracy.  Once the final validation accuracy is 50% or greater, run the model on all the data in the next section."
   ]
  },
  {
   "cell_type": "code",
   "execution_count": 82,
   "metadata": {
    "collapsed": false
   },
   "outputs": [
    {
     "name": "stdout",
     "output_type": "stream",
     "text": [
      "Checking the Training on a Single Batch...\n",
      "Epoch  1, CIFAR-10 Batch 1:  Loss at 2.0172343254089355 Validation Accuracy at 0.27900001406669617 Training Acc at 0.42500001192092896\n",
      "Epoch  2, CIFAR-10 Batch 1:  Loss at 1.9457581043243408 Validation Accuracy at 0.32760000228881836 Training Acc at 0.4749999940395355\n",
      "Epoch  3, CIFAR-10 Batch 1:  Loss at 1.887277603149414 Validation Accuracy at 0.38339999318122864 Training Acc at 0.375\n",
      "Epoch  4, CIFAR-10 Batch 1:  Loss at 1.8129565715789795 Validation Accuracy at 0.39320001006126404 Training Acc at 0.4000000059604645\n",
      "Epoch  5, CIFAR-10 Batch 1:  Loss at 1.7724196910858154 Validation Accuracy at 0.41600000858306885 Training Acc at 0.44999998807907104\n",
      "Epoch  6, CIFAR-10 Batch 1:  Loss at 1.73919677734375 Validation Accuracy at 0.42899999022483826 Training Acc at 0.44999998807907104\n",
      "Epoch  7, CIFAR-10 Batch 1:  Loss at 1.6738433837890625 Validation Accuracy at 0.44279998540878296 Training Acc at 0.44999998807907104\n",
      "Epoch  8, CIFAR-10 Batch 1:  Loss at 1.6423527002334595 Validation Accuracy at 0.4381999969482422 Training Acc at 0.4749999940395355\n",
      "Epoch  9, CIFAR-10 Batch 1:  Loss at 1.581500768661499 Validation Accuracy at 0.46219998598098755 Training Acc at 0.4749999940395355\n",
      "Epoch 10, CIFAR-10 Batch 1:  Loss at 1.540052890777588 Validation Accuracy at 0.46000000834465027 Training Acc at 0.4749999940395355\n",
      "Epoch 11, CIFAR-10 Batch 1:  Loss at 1.475282073020935 Validation Accuracy at 0.47600001096725464 Training Acc at 0.550000011920929\n",
      "Epoch 12, CIFAR-10 Batch 1:  Loss at 1.3581620454788208 Validation Accuracy at 0.49880000948905945 Training Acc at 0.625\n",
      "Epoch 13, CIFAR-10 Batch 1:  Loss at 1.3045114278793335 Validation Accuracy at 0.5009999871253967 Training Acc at 0.625\n",
      "Epoch 14, CIFAR-10 Batch 1:  Loss at 1.2699227333068848 Validation Accuracy at 0.49219998717308044 Training Acc at 0.625\n",
      "Epoch 15, CIFAR-10 Batch 1:  Loss at 1.1641566753387451 Validation Accuracy at 0.5004000067710876 Training Acc at 0.625\n",
      "Epoch 16, CIFAR-10 Batch 1:  Loss at 1.159714698791504 Validation Accuracy at 0.4997999966144562 Training Acc at 0.6000000238418579\n",
      "Epoch 17, CIFAR-10 Batch 1:  Loss at 1.099022626876831 Validation Accuracy at 0.5117999911308289 Training Acc at 0.6499999761581421\n",
      "Epoch 18, CIFAR-10 Batch 1:  Loss at 1.0534340143203735 Validation Accuracy at 0.5019999742507935 Training Acc at 0.574999988079071\n",
      "Epoch 19, CIFAR-10 Batch 1:  Loss at 0.9940069317817688 Validation Accuracy at 0.4959999918937683 Training Acc at 0.699999988079071\n",
      "Epoch 20, CIFAR-10 Batch 1:  Loss at 0.8881074786186218 Validation Accuracy at 0.5153999924659729 Training Acc at 0.75\n"
     ]
    }
   ],
   "source": [
    "\"\"\"\n",
    "DON'T MODIFY ANYTHING IN THIS CELL\n",
    "\"\"\"\n",
    "print('Checking the Training on a Single Batch...')\n",
    "with tf.Session() as sess:\n",
    "    # Initializing the variables\n",
    "    sess.run(tf.global_variables_initializer())\n",
    "    \n",
    "    # Training cycle\n",
    "    for epoch in range(epochs):\n",
    "        batch_i = 1\n",
    "        for batch_features, batch_labels in helper.load_preprocess_training_batch(batch_i, batch_size):\n",
    "            train_neural_network(sess, optimizer, keep_probability, batch_features, batch_labels)\n",
    "        print('Epoch {:>2}, CIFAR-10 Batch {}:  '.format(epoch + 1, batch_i), end='')\n",
    "        print_stats(sess, batch_features, batch_labels, cost, accuracy)"
   ]
  },
  {
   "cell_type": "markdown",
   "metadata": {},
   "source": [
    "### Fully Train the Model\n",
    "Now that you got a good accuracy with a single CIFAR-10 batch, try it with all five batches."
   ]
  },
  {
   "cell_type": "code",
   "execution_count": 83,
   "metadata": {
    "collapsed": false
   },
   "outputs": [
    {
     "name": "stdout",
     "output_type": "stream",
     "text": [
      "Training...\n",
      "Epoch  1, CIFAR-10 Batch 1:  Loss at 2.0389161109924316 Validation Accuracy at 0.289000004529953 Training Acc at 0.2750000059604645\n",
      "Epoch  1, CIFAR-10 Batch 2:  Loss at 1.8564879894256592 Validation Accuracy at 0.33399999141693115 Training Acc at 0.42500001192092896\n",
      "Epoch  1, CIFAR-10 Batch 3:  Loss at 1.7246097326278687 Validation Accuracy at 0.3846000134944916 Training Acc at 0.44999998807907104\n",
      "Epoch  1, CIFAR-10 Batch 4:  Loss at 1.6833518743515015 Validation Accuracy at 0.40540000796318054 Training Acc at 0.44999998807907104\n",
      "Epoch  1, CIFAR-10 Batch 5:  Loss at 1.7170912027359009 Validation Accuracy at 0.4156000018119812 Training Acc at 0.44999998807907104\n",
      "Epoch  2, CIFAR-10 Batch 1:  Loss at 1.716101050376892 Validation Accuracy at 0.436599999666214 Training Acc at 0.42500001192092896\n",
      "Epoch  2, CIFAR-10 Batch 2:  Loss at 1.450162649154663 Validation Accuracy at 0.45179998874664307 Training Acc at 0.5249999761581421\n",
      "Epoch  2, CIFAR-10 Batch 3:  Loss at 1.4714094400405884 Validation Accuracy at 0.4697999954223633 Training Acc at 0.5\n",
      "Epoch  2, CIFAR-10 Batch 4:  Loss at 1.5668604373931885 Validation Accuracy at 0.46399998664855957 Training Acc at 0.44999998807907104\n",
      "Epoch  2, CIFAR-10 Batch 5:  Loss at 1.4255445003509521 Validation Accuracy at 0.48260000348091125 Training Acc at 0.4749999940395355\n",
      "Epoch  3, CIFAR-10 Batch 1:  Loss at 1.6045246124267578 Validation Accuracy at 0.48899999260902405 Training Acc at 0.32499998807907104\n",
      "Epoch  3, CIFAR-10 Batch 2:  Loss at 1.3086572885513306 Validation Accuracy at 0.5 Training Acc at 0.5\n",
      "Epoch  3, CIFAR-10 Batch 3:  Loss at 1.3463934659957886 Validation Accuracy at 0.5041999816894531 Training Acc at 0.550000011920929\n",
      "Epoch  3, CIFAR-10 Batch 4:  Loss at 1.4516007900238037 Validation Accuracy at 0.5008000135421753 Training Acc at 0.5249999761581421\n",
      "Epoch  3, CIFAR-10 Batch 5:  Loss at 1.243021011352539 Validation Accuracy at 0.5343999862670898 Training Acc at 0.550000011920929\n",
      "Epoch  4, CIFAR-10 Batch 1:  Loss at 1.4955862760543823 Validation Accuracy at 0.5460000038146973 Training Acc at 0.4000000059604645\n",
      "Epoch  4, CIFAR-10 Batch 2:  Loss at 1.1675946712493896 Validation Accuracy at 0.5192000269889832 Training Acc at 0.625\n",
      "Epoch  4, CIFAR-10 Batch 3:  Loss at 1.2031245231628418 Validation Accuracy at 0.5509999990463257 Training Acc at 0.6499999761581421\n",
      "Epoch  4, CIFAR-10 Batch 4:  Loss at 1.3048368692398071 Validation Accuracy at 0.5616000294685364 Training Acc at 0.550000011920929\n",
      "Epoch  4, CIFAR-10 Batch 5:  Loss at 1.134926199913025 Validation Accuracy at 0.5630000233650208 Training Acc at 0.625\n",
      "Epoch  5, CIFAR-10 Batch 1:  Loss at 1.2537442445755005 Validation Accuracy at 0.5831999778747559 Training Acc at 0.5\n",
      "Epoch  5, CIFAR-10 Batch 2:  Loss at 1.1109955310821533 Validation Accuracy at 0.5705999732017517 Training Acc at 0.625\n",
      "Epoch  5, CIFAR-10 Batch 3:  Loss at 1.1346595287322998 Validation Accuracy at 0.5834000110626221 Training Acc at 0.675000011920929\n",
      "Epoch  5, CIFAR-10 Batch 4:  Loss at 1.2847731113433838 Validation Accuracy at 0.5659999847412109 Training Acc at 0.4749999940395355\n",
      "Epoch  5, CIFAR-10 Batch 5:  Loss at 1.08164381980896 Validation Accuracy at 0.5648000240325928 Training Acc at 0.625\n",
      "Epoch  6, CIFAR-10 Batch 1:  Loss at 1.259000539779663 Validation Accuracy at 0.5666000247001648 Training Acc at 0.550000011920929\n",
      "Epoch  6, CIFAR-10 Batch 2:  Loss at 0.9492901563644409 Validation Accuracy at 0.6065999865531921 Training Acc at 0.675000011920929\n",
      "Epoch  6, CIFAR-10 Batch 3:  Loss at 1.0201804637908936 Validation Accuracy at 0.5989999771118164 Training Acc at 0.675000011920929\n",
      "Epoch  6, CIFAR-10 Batch 4:  Loss at 1.1467481851577759 Validation Accuracy at 0.5992000102996826 Training Acc at 0.625\n",
      "Epoch  6, CIFAR-10 Batch 5:  Loss at 0.9146385192871094 Validation Accuracy at 0.5985999703407288 Training Acc at 0.675000011920929\n",
      "Epoch  7, CIFAR-10 Batch 1:  Loss at 1.143731713294983 Validation Accuracy at 0.6019999980926514 Training Acc at 0.6000000238418579\n",
      "Epoch  7, CIFAR-10 Batch 2:  Loss at 0.9867681264877319 Validation Accuracy at 0.6007999777793884 Training Acc at 0.6499999761581421\n",
      "Epoch  7, CIFAR-10 Batch 3:  Loss at 0.9109894037246704 Validation Accuracy at 0.6331999897956848 Training Acc at 0.699999988079071\n",
      "Epoch  7, CIFAR-10 Batch 4:  Loss at 0.998116135597229 Validation Accuracy at 0.6353999972343445 Training Acc at 0.7250000238418579\n",
      "Epoch  7, CIFAR-10 Batch 5:  Loss at 0.8468714952468872 Validation Accuracy at 0.6173999905586243 Training Acc at 0.699999988079071\n",
      "Epoch  8, CIFAR-10 Batch 1:  Loss at 0.9834213256835938 Validation Accuracy at 0.6154000163078308 Training Acc at 0.6499999761581421\n",
      "Epoch  8, CIFAR-10 Batch 2:  Loss at 0.8390763998031616 Validation Accuracy at 0.6276000142097473 Training Acc at 0.75\n",
      "Epoch  8, CIFAR-10 Batch 3:  Loss at 0.8459006547927856 Validation Accuracy at 0.642799973487854 Training Acc at 0.7250000238418579\n",
      "Epoch  8, CIFAR-10 Batch 4:  Loss at 0.9345607757568359 Validation Accuracy at 0.6277999877929688 Training Acc at 0.675000011920929\n",
      "Epoch  8, CIFAR-10 Batch 5:  Loss at 0.7922071218490601 Validation Accuracy at 0.6272000074386597 Training Acc at 0.75\n",
      "Epoch  9, CIFAR-10 Batch 1:  Loss at 0.8891664743423462 Validation Accuracy at 0.6362000107765198 Training Acc at 0.7250000238418579\n",
      "Epoch  9, CIFAR-10 Batch 2:  Loss at 0.8239690661430359 Validation Accuracy at 0.6421999931335449 Training Acc at 0.7250000238418579\n",
      "Epoch  9, CIFAR-10 Batch 3:  Loss at 0.8883177042007446 Validation Accuracy at 0.6456000208854675 Training Acc at 0.675000011920929\n",
      "Epoch  9, CIFAR-10 Batch 4:  Loss at 0.8182039260864258 Validation Accuracy at 0.6603999733924866 Training Acc at 0.75\n",
      "Epoch  9, CIFAR-10 Batch 5:  Loss at 0.7352150678634644 Validation Accuracy at 0.6259999871253967 Training Acc at 0.7749999761581421\n",
      "Epoch 10, CIFAR-10 Batch 1:  Loss at 0.9032794833183289 Validation Accuracy at 0.6534000039100647 Training Acc at 0.699999988079071\n",
      "Epoch 10, CIFAR-10 Batch 2:  Loss at 0.7499305605888367 Validation Accuracy at 0.6579999923706055 Training Acc at 0.75\n",
      "Epoch 10, CIFAR-10 Batch 3:  Loss at 0.8962278366088867 Validation Accuracy at 0.6498000025749207 Training Acc at 0.7749999761581421\n",
      "Epoch 10, CIFAR-10 Batch 4:  Loss at 0.7836392521858215 Validation Accuracy at 0.6610000133514404 Training Acc at 0.800000011920929\n",
      "Epoch 10, CIFAR-10 Batch 5:  Loss at 0.6648761630058289 Validation Accuracy at 0.6547999978065491 Training Acc at 0.800000011920929\n",
      "Epoch 11, CIFAR-10 Batch 1:  Loss at 0.7879721522331238 Validation Accuracy at 0.6543999910354614 Training Acc at 0.75\n",
      "Epoch 11, CIFAR-10 Batch 2:  Loss at 0.7670775651931763 Validation Accuracy at 0.646399974822998 Training Acc at 0.675000011920929\n",
      "Epoch 11, CIFAR-10 Batch 3:  Loss at 0.7035343050956726 Validation Accuracy at 0.6553999781608582 Training Acc at 0.800000011920929\n",
      "Epoch 11, CIFAR-10 Batch 4:  Loss at 0.5982324481010437 Validation Accuracy at 0.6672000288963318 Training Acc at 0.800000011920929\n",
      "Epoch 11, CIFAR-10 Batch 5:  Loss at 0.6090342402458191 Validation Accuracy at 0.6636000275611877 Training Acc at 0.7749999761581421\n",
      "Epoch 12, CIFAR-10 Batch 1:  Loss at 0.6619946360588074 Validation Accuracy at 0.6629999876022339 Training Acc at 0.824999988079071\n",
      "Epoch 12, CIFAR-10 Batch 2:  Loss at 0.6591804027557373 Validation Accuracy at 0.6403999924659729 Training Acc at 0.800000011920929\n",
      "Epoch 12, CIFAR-10 Batch 3:  Loss at 0.6208731532096863 Validation Accuracy at 0.6705999970436096 Training Acc at 0.824999988079071\n",
      "Epoch 12, CIFAR-10 Batch 4:  Loss at 0.6660129427909851 Validation Accuracy at 0.6638000011444092 Training Acc at 0.7749999761581421\n",
      "Epoch 12, CIFAR-10 Batch 5:  Loss at 0.5570641756057739 Validation Accuracy at 0.66839998960495 Training Acc at 0.875\n",
      "Epoch 13, CIFAR-10 Batch 1:  Loss at 0.60944002866745 Validation Accuracy at 0.670799970626831 Training Acc at 0.875\n",
      "Epoch 13, CIFAR-10 Batch 2:  Loss at 0.604566216468811 Validation Accuracy at 0.6657999753952026 Training Acc at 0.800000011920929\n",
      "Epoch 13, CIFAR-10 Batch 3:  Loss at 0.6195461750030518 Validation Accuracy at 0.6664000153541565 Training Acc at 0.75\n",
      "Epoch 13, CIFAR-10 Batch 4:  Loss at 0.5652492642402649 Validation Accuracy at 0.6836000084877014 Training Acc at 0.800000011920929\n",
      "Epoch 13, CIFAR-10 Batch 5:  Loss at 0.4951539933681488 Validation Accuracy at 0.6791999936103821 Training Acc at 0.875\n",
      "Epoch 14, CIFAR-10 Batch 1:  Loss at 0.6103156805038452 Validation Accuracy at 0.6736000180244446 Training Acc at 0.8500000238418579\n",
      "Epoch 14, CIFAR-10 Batch 2:  Loss at 0.638566792011261 Validation Accuracy at 0.6761999726295471 Training Acc at 0.800000011920929\n",
      "Epoch 14, CIFAR-10 Batch 3:  Loss at 0.5131808519363403 Validation Accuracy at 0.6606000065803528 Training Acc at 0.8500000238418579\n",
      "Epoch 14, CIFAR-10 Batch 4:  Loss at 0.5656359791755676 Validation Accuracy at 0.6764000058174133 Training Acc at 0.800000011920929\n",
      "Epoch 14, CIFAR-10 Batch 5:  Loss at 0.3858339488506317 Validation Accuracy at 0.6765999794006348 Training Acc at 0.8999999761581421\n",
      "Epoch 15, CIFAR-10 Batch 1:  Loss at 0.5938273072242737 Validation Accuracy at 0.6741999983787537 Training Acc at 0.8500000238418579\n",
      "Epoch 15, CIFAR-10 Batch 2:  Loss at 0.46903282403945923 Validation Accuracy at 0.6692000031471252 Training Acc at 0.875\n",
      "Epoch 15, CIFAR-10 Batch 3:  Loss at 0.411853164434433 Validation Accuracy at 0.6754000186920166 Training Acc at 0.925000011920929\n",
      "Epoch 15, CIFAR-10 Batch 4:  Loss at 0.519967794418335 Validation Accuracy at 0.6743999719619751 Training Acc at 0.8500000238418579\n",
      "Epoch 15, CIFAR-10 Batch 5:  Loss at 0.3859385848045349 Validation Accuracy at 0.6837999820709229 Training Acc at 0.875\n",
      "Epoch 16, CIFAR-10 Batch 1:  Loss at 0.44612351059913635 Validation Accuracy at 0.6787999868392944 Training Acc at 0.925000011920929\n",
      "Epoch 16, CIFAR-10 Batch 2:  Loss at 0.43557578325271606 Validation Accuracy at 0.6826000213623047 Training Acc at 0.875\n",
      "Epoch 16, CIFAR-10 Batch 3:  Loss at 0.3822227120399475 Validation Accuracy at 0.6894000172615051 Training Acc at 0.8999999761581421\n",
      "Epoch 16, CIFAR-10 Batch 4:  Loss at 0.45641088485717773 Validation Accuracy at 0.6837999820709229 Training Acc at 0.875\n",
      "Epoch 16, CIFAR-10 Batch 5:  Loss at 0.3962628245353699 Validation Accuracy at 0.6818000078201294 Training Acc at 0.925000011920929\n",
      "Epoch 17, CIFAR-10 Batch 1:  Loss at 0.3780811131000519 Validation Accuracy at 0.6787999868392944 Training Acc at 0.925000011920929\n",
      "Epoch 17, CIFAR-10 Batch 2:  Loss at 0.46310949325561523 Validation Accuracy at 0.6858000159263611 Training Acc at 0.824999988079071\n",
      "Epoch 17, CIFAR-10 Batch 3:  Loss at 0.2950619161128998 Validation Accuracy at 0.675000011920929 Training Acc at 0.8999999761581421\n",
      "Epoch 17, CIFAR-10 Batch 4:  Loss at 0.3958708643913269 Validation Accuracy at 0.6682000160217285 Training Acc at 0.8999999761581421\n",
      "Epoch 17, CIFAR-10 Batch 5:  Loss at 0.271487295627594 Validation Accuracy at 0.6908000111579895 Training Acc at 0.8999999761581421\n",
      "Epoch 18, CIFAR-10 Batch 1:  Loss at 0.42830580472946167 Validation Accuracy at 0.6840000152587891 Training Acc at 0.8999999761581421\n",
      "Epoch 18, CIFAR-10 Batch 2:  Loss at 0.41253986954689026 Validation Accuracy at 0.6747999787330627 Training Acc at 0.875\n",
      "Epoch 18, CIFAR-10 Batch 3:  Loss at 0.26124539971351624 Validation Accuracy at 0.6855999827384949 Training Acc at 0.925000011920929\n",
      "Epoch 18, CIFAR-10 Batch 4:  Loss at 0.3125836253166199 Validation Accuracy at 0.6710000038146973 Training Acc at 0.8999999761581421\n",
      "Epoch 18, CIFAR-10 Batch 5:  Loss at 0.2830984592437744 Validation Accuracy at 0.6855999827384949 Training Acc at 0.949999988079071\n",
      "Epoch 19, CIFAR-10 Batch 1:  Loss at 0.4451421797275543 Validation Accuracy at 0.6812000274658203 Training Acc at 0.8999999761581421\n",
      "Epoch 19, CIFAR-10 Batch 2:  Loss at 0.4011112153530121 Validation Accuracy at 0.6773999929428101 Training Acc at 0.8500000238418579\n",
      "Epoch 19, CIFAR-10 Batch 3:  Loss at 0.26560747623443604 Validation Accuracy at 0.6923999786376953 Training Acc at 0.8999999761581421\n",
      "Epoch 19, CIFAR-10 Batch 4:  Loss at 0.30233344435691833 Validation Accuracy at 0.6729999780654907 Training Acc at 0.949999988079071\n",
      "Epoch 19, CIFAR-10 Batch 5:  Loss at 0.2422402799129486 Validation Accuracy at 0.6773999929428101 Training Acc at 0.949999988079071\n",
      "Epoch 20, CIFAR-10 Batch 1:  Loss at 0.37065571546554565 Validation Accuracy at 0.6801999807357788 Training Acc at 0.8999999761581421\n",
      "Epoch 20, CIFAR-10 Batch 2:  Loss at 0.4251070022583008 Validation Accuracy at 0.680400013923645 Training Acc at 0.824999988079071\n",
      "Epoch 20, CIFAR-10 Batch 3:  Loss at 0.2559303045272827 Validation Accuracy at 0.6692000031471252 Training Acc at 0.8999999761581421\n",
      "Epoch 20, CIFAR-10 Batch 4:  Loss at 0.31597900390625 Validation Accuracy at 0.6714000105857849 Training Acc at 0.925000011920929\n",
      "Epoch 20, CIFAR-10 Batch 5:  Loss at 0.22047710418701172 Validation Accuracy at 0.6740000247955322 Training Acc at 0.949999988079071\n"
     ]
    }
   ],
   "source": [
    "\"\"\"\n",
    "DON'T MODIFY ANYTHING IN THIS CELL\n",
    "\"\"\"\n",
    "save_model_path = './image_classification'\n",
    "\n",
    "print('Training...')\n",
    "with tf.Session() as sess:\n",
    "    # Initializing the variables\n",
    "    sess.run(tf.global_variables_initializer())\n",
    "    \n",
    "    # Training cycle\n",
    "    for epoch in range(epochs):\n",
    "        # Loop over all batches\n",
    "        n_batches = 5\n",
    "        for batch_i in range(1, n_batches + 1):\n",
    "            for batch_features, batch_labels in helper.load_preprocess_training_batch(batch_i, batch_size):\n",
    "                train_neural_network(sess, optimizer, keep_probability, batch_features, batch_labels)\n",
    "            print('Epoch {:>2}, CIFAR-10 Batch {}:  '.format(epoch + 1, batch_i), end='')\n",
    "            print_stats(sess, batch_features, batch_labels, cost, accuracy)\n",
    "            \n",
    "    # Save Model\n",
    "    saver = tf.train.Saver()\n",
    "    save_path = saver.save(sess, save_model_path)"
   ]
  },
  {
   "cell_type": "markdown",
   "metadata": {},
   "source": [
    "# Checkpoint\n",
    "The model has been saved to disk.\n",
    "## Test Model\n",
    "Test your model against the test dataset.  This will be your final accuracy. You should have an accuracy greater than 50%. If you don't, keep tweaking the model architecture and parameters."
   ]
  },
  {
   "cell_type": "code",
   "execution_count": 84,
   "metadata": {
    "collapsed": false
   },
   "outputs": [
    {
     "name": "stdout",
     "output_type": "stream",
     "text": [
      "Testing Accuracy: 0.6690883757961783\n",
      "\n"
     ]
    },
    {
     "data": {
      "image/png": "[encoded data removed]",
      "text/plain": [
       "<matplotlib.figure.Figure at 0x1019c85f8>"
      ]
     },
     "metadata": {
      "image/png": {
       "height": 319,
       "width": 355
      }
     },
     "output_type": "display_data"
    }
   ],
   "source": [
    "\"\"\"\n",
    "DON'T MODIFY ANYTHING IN THIS CELL\n",
    "\"\"\"\n",
    "%matplotlib inline\n",
    "%config InlineBackend.figure_format = 'retina'\n",
    "\n",
    "import tensorflow as tf\n",
    "import pickle\n",
    "import helper\n",
    "import random\n",
    "\n",
    "# Set batch size if not already set\n",
    "try:\n",
    "    if batch_size:\n",
    "        pass\n",
    "except NameError:\n",
    "    batch_size = 64\n",
    "\n",
    "save_model_path = './image_classification'\n",
    "n_samples = 4\n",
    "top_n_predictions = 3\n",
    "\n",
    "def test_model():\n",
    "    \"\"\"\n",
    "    Test the saved model against the test dataset\n",
    "    \"\"\"\n",
    "\n",
    "    test_features, test_labels = pickle.load(open('preprocess_training.p', mode='rb'))\n",
    "    loaded_graph = tf.Graph()\n",
    "\n",
    "    with tf.Session(graph=loaded_graph) as sess:\n",
    "        # Load model\n",
    "        loader = tf.train.import_meta_graph(save_model_path + '.meta')\n",
    "        loader.restore(sess, save_model_path)\n",
    "\n",
    "        # Get Tensors from loaded model\n",
    "        loaded_x = loaded_graph.get_tensor_by_name('x:0')\n",
    "        loaded_y = loaded_graph.get_tensor_by_name('y:0')\n",
    "        loaded_keep_prob = loaded_graph.get_tensor_by_name('keep_prob:0')\n",
    "        loaded_logits = loaded_graph.get_tensor_by_name('logits:0')\n",
    "        loaded_acc = loaded_graph.get_tensor_by_name('accuracy:0')\n",
    "        \n",
    "        # Get accuracy in batches for memory limitations\n",
    "        test_batch_acc_total = 0\n",
    "        test_batch_count = 0\n",
    "        \n",
    "        for train_feature_batch, train_label_batch in helper.batch_features_labels(test_features, test_labels, batch_size):\n",
    "            test_batch_acc_total += sess.run(\n",
    "                loaded_acc,\n",
    "                feed_dict={loaded_x: train_feature_batch, loaded_y: train_label_batch, loaded_keep_prob: 1.0})\n",
    "            test_batch_count += 1\n",
    "\n",
    "        print('Testing Accuracy: {}\\n'.format(test_batch_acc_total/test_batch_count))\n",
    "\n",
    "        # Print Random Samples\n",
    "        random_test_features, random_test_labels = tuple(zip(*random.sample(list(zip(test_features, test_labels)), n_samples)))\n",
    "        random_test_predictions = sess.run(\n",
    "            tf.nn.top_k(tf.nn.softmax(loaded_logits), top_n_predictions),\n",
    "            feed_dict={loaded_x: random_test_features, loaded_y: random_test_labels, loaded_keep_prob: 1.0})\n",
    "        helper.display_image_predictions(random_test_features, random_test_labels, random_test_predictions)\n",
    "\n",
    "\n",
    "test_model()\n"
   ]
  },
  {
   "cell_type": "markdown",
   "metadata": {},
   "source": [
    "## Why 50-70% Accuracy?\n",
    "You might be wondering why you can't get an accuracy any higher. First things first, 50% isn't bad for a simple CNN.  Pure guessing would get you 10% accuracy. However, you might notice people are getting scores [well above 70%](http://rodrigob.github.io/are_we_there_yet/build/classification_datasets_results.html#43494641522d3130).  That's because we haven't taught you all there is to know about neural networks. We still need to cover a few more techniques.\n",
    "## Submitting This Project\n",
    "When submitting this project, make sure to run all the cells before saving the notebook.  Save the notebook file as \"dlnd_image_classification.ipynb\" and save it as a HTML file under \"File\" -> \"Download as\".  Include the \"helper.py\" and \"problem_unittests.py\" files in your submission."
   ]
  },
  {
   "cell_type": "code",
   "execution_count": null,
   "metadata": {
    "collapsed": true
   },
   "outputs": [],
   "source": []
  }
 ],
 "metadata": {
  "anaconda-cloud": {},
  "kernelspec": {
   "display_name": "Python [conda env:tflearn]",
   "language": "python",
   "name": "conda-env-tflearn-py"
  },
  "language_info": {
   "codemirror_mode": {
    "name": "ipython",
    "version": 3
   },
   "file_extension": ".py",
   "mimetype": "text/x-python",
   "name": "python",
   "nbconvert_exporter": "python",
   "pygments_lexer": "ipython3",
   "version": "3.5.2"
  }
 },
 "nbformat": 4,
 "nbformat_minor": 0
}
